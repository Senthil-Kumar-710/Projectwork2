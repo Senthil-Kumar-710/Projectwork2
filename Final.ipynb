{
 "cells": [
  {
   "cell_type": "code",
   "execution_count": 2,
   "id": "9f0f6868-f519-4ea3-884f-db77e79b6775",
   "metadata": {},
   "outputs": [
    {
     "name": "stdout",
     "output_type": "stream",
     "text": [
      "WARNING:tensorflow:From C:\\Users\\Pavan\\AppData\\Roaming\\Python\\Python311\\site-packages\\keras\\src\\losses.py:2976: The name tf.losses.sparse_softmax_cross_entropy is deprecated. Please use tf.compat.v1.losses.sparse_softmax_cross_entropy instead.\n",
      "\n"
     ]
    }
   ],
   "source": [
    "import os\n",
    "import numpy as np\n",
    "import tensorflow as tf\n",
    "from tensorflow.keras.models import Sequential\n",
    "from tensorflow.keras.layers import Conv2D, MaxPooling2D, Flatten, Dense, Dropout, BatchNormalization\n",
    "from tensorflow.keras.preprocessing.image import ImageDataGenerator\n",
    "from tensorflow.keras.callbacks import ModelCheckpoint, EarlyStopping, ReduceLROnPlateau\n",
    "from tensorflow.keras.optimizers import Adam\n",
    "import matplotlib.pyplot as plt\n",
    "from sklearn.utils.class_weight import compute_class_weight"
   ]
  },
  {
   "cell_type": "code",
   "execution_count": 3,
   "id": "acc41ae8-b55b-45e5-a5a7-e3f487c51ec5",
   "metadata": {},
   "outputs": [
    {
     "name": "stdout",
     "output_type": "stream",
     "text": [
      "🔹 TensorFlow Version: 2.15.0\n",
      "🔹 GPU Available: []\n"
     ]
    }
   ],
   "source": [
    "# Check GPU availability\n",
    "print(\"🔹 TensorFlow Version:\", tf.__version__)\n",
    "print(\"🔹 GPU Available:\", tf.config.list_physical_devices('GPU'))\n"
   ]
  },
  {
   "cell_type": "code",
   "execution_count": 4,
   "id": "4733422e-a789-481c-a692-18d972100815",
   "metadata": {},
   "outputs": [],
   "source": [
    "# Define dataset path\n",
    "dataset_path = r\"C:\\Users\\Pavan\\Downloads\\dataset\"\n",
    "train_path = os.path.join(dataset_path, \"train\")\n",
    "val_path = os.path.join(dataset_path, \"val\")\n"
   ]
  },
  {
   "cell_type": "code",
   "execution_count": 8,
   "id": "41286dd3-7123-496c-8da2-c0ed3044d4d5",
   "metadata": {},
   "outputs": [],
   "source": [
    "# Define image parameters\n",
    "IMAGE_SIZE = (224, 224)\n",
    "BATCH_SIZE = 32"
   ]
  },
  {
   "cell_type": "code",
   "execution_count": 10,
   "id": "33c3bc28-c3dd-4f1d-a1c9-414a01afabcc",
   "metadata": {},
   "outputs": [],
   "source": [
    "# Data augmentation and normalization\n",
    "train_datagen = ImageDataGenerator(\n",
    "    rescale=1./255,\n",
    "    rotation_range=30,\n",
    "    width_shift_range=0.2,\n",
    "    height_shift_range=0.2,\n",
    "    shear_range=0.2,\n",
    "    zoom_range=0.2,\n",
    "    horizontal_flip=True,\n",
    "    fill_mode='nearest'\n",
    ")\n",
    "val_datagen = ImageDataGenerator(rescale=1./255)"
   ]
  },
  {
   "cell_type": "code",
   "execution_count": 12,
   "id": "0993ce62-a4f9-4224-9fce-520414c9fee4",
   "metadata": {},
   "outputs": [
    {
     "name": "stdout",
     "output_type": "stream",
     "text": [
      "Found 1166 images belonging to 2 classes.\n",
      "Found 294 images belonging to 2 classes.\n"
     ]
    }
   ],
   "source": [
    "# Load training and validation data\n",
    "train_dataset = train_datagen.flow_from_directory(\n",
    "    os.path.join(dataset_path, 'train'),\n",
    "    target_size=IMAGE_SIZE,\n",
    "    batch_size=BATCH_SIZE,\n",
    "    class_mode='binary',\n",
    "    shuffle=True\n",
    ")\n",
    "\n",
    "validation_dataset = val_datagen.flow_from_directory(\n",
    "    os.path.join(dataset_path, 'val'),\n",
    "    target_size=IMAGE_SIZE,\n",
    "    batch_size=BATCH_SIZE,\n",
    "    class_mode='binary',\n",
    "    shuffle=False\n",
    ")\n"
   ]
  },
  {
   "cell_type": "code",
   "execution_count": 14,
   "id": "81ac8ebc-65c8-4109-899d-b609e555b646",
   "metadata": {},
   "outputs": [
    {
     "name": "stdout",
     "output_type": "stream",
     "text": [
      "✅ Class Weights: {0: 0.9620462046204621, 1: 1.0410714285714286}\n"
     ]
    }
   ],
   "source": [
    "# Compute class weights for imbalance handling\n",
    "classes = np.unique(train_dataset.classes)\n",
    "class_weights = compute_class_weight('balanced', classes=classes, y=train_dataset.classes)\n",
    "class_weight_dict = {i: weight for i, weight in zip(classes, class_weights)}\n",
    "print(f\"✅ Class Weights: {class_weight_dict}\")\n"
   ]
  },
  {
   "cell_type": "code",
   "execution_count": 16,
   "id": "4fc0ef5e-9031-49fd-ba0f-0120c11abfa0",
   "metadata": {},
   "outputs": [],
   "source": [
    "# Define CNN model\n",
    "def create_cnn_model():\n",
    "    model = Sequential([\n",
    "        Conv2D(32, (3, 3), activation='relu', input_shape=(IMAGE_SIZE[0], IMAGE_SIZE[1], 3)),\n",
    "        BatchNormalization(),\n",
    "        MaxPooling2D(2, 2),\n",
    "\n",
    "        Conv2D(64, (3, 3), activation='relu'),\n",
    "        BatchNormalization(),\n",
    "        MaxPooling2D(2, 2),\n",
    "\n",
    "        Conv2D(128, (3, 3), activation='relu'),\n",
    "        BatchNormalization(),\n",
    "        MaxPooling2D(2, 2),\n",
    "        \n",
    "        Flatten(),\n",
    "        Dense(256, activation='relu'),\n",
    "        Dropout(0.6),\n",
    "        Dense(128, activation='relu'),\n",
    "        Dropout(0.4),\n",
    "        Dense(1, activation='sigmoid')\n",
    "    ])\n",
    "    \n",
    "    model.compile(\n",
    "        optimizer=Adam(learning_rate=1e-5),\n",
    "        loss='binary_crossentropy',\n",
    "        metrics=['accuracy']\n",
    "    )\n",
    "    \n",
    "    return model\n"
   ]
  },
  {
   "cell_type": "code",
   "execution_count": 18,
   "id": "e75cd425-4571-4055-81f3-9e731f9c6015",
   "metadata": {},
   "outputs": [
    {
     "name": "stdout",
     "output_type": "stream",
     "text": [
      "WARNING:tensorflow:From C:\\Users\\Pavan\\AppData\\Roaming\\Python\\Python311\\site-packages\\keras\\src\\backend.py:873: The name tf.get_default_graph is deprecated. Please use tf.compat.v1.get_default_graph instead.\n",
      "\n",
      "WARNING:tensorflow:From C:\\Users\\Pavan\\AppData\\Roaming\\Python\\Python311\\site-packages\\keras\\src\\layers\\pooling\\max_pooling2d.py:161: The name tf.nn.max_pool is deprecated. Please use tf.nn.max_pool2d instead.\n",
      "\n",
      "✅ CNN Model Created\n",
      "Model: \"sequential\"\n",
      "_________________________________________________________________\n",
      " Layer (type)                Output Shape              Param #   \n",
      "=================================================================\n",
      " conv2d (Conv2D)             (None, 222, 222, 32)      896       \n",
      "                                                                 \n",
      " batch_normalization (Batch  (None, 222, 222, 32)      128       \n",
      " Normalization)                                                  \n",
      "                                                                 \n",
      " max_pooling2d (MaxPooling2  (None, 111, 111, 32)      0         \n",
      " D)                                                              \n",
      "                                                                 \n",
      " conv2d_1 (Conv2D)           (None, 109, 109, 64)      18496     \n",
      "                                                                 \n",
      " batch_normalization_1 (Bat  (None, 109, 109, 64)      256       \n",
      " chNormalization)                                                \n",
      "                                                                 \n",
      " max_pooling2d_1 (MaxPoolin  (None, 54, 54, 64)        0         \n",
      " g2D)                                                            \n",
      "                                                                 \n",
      " conv2d_2 (Conv2D)           (None, 52, 52, 128)       73856     \n",
      "                                                                 \n",
      " batch_normalization_2 (Bat  (None, 52, 52, 128)       512       \n",
      " chNormalization)                                                \n",
      "                                                                 \n",
      " max_pooling2d_2 (MaxPoolin  (None, 26, 26, 128)       0         \n",
      " g2D)                                                            \n",
      "                                                                 \n",
      " flatten (Flatten)           (None, 86528)             0         \n",
      "                                                                 \n",
      " dense (Dense)               (None, 256)               22151424  \n",
      "                                                                 \n",
      " dropout (Dropout)           (None, 256)               0         \n",
      "                                                                 \n",
      " dense_1 (Dense)             (None, 128)               32896     \n",
      "                                                                 \n",
      " dropout_1 (Dropout)         (None, 128)               0         \n",
      "                                                                 \n",
      " dense_2 (Dense)             (None, 1)                 129       \n",
      "                                                                 \n",
      "=================================================================\n",
      "Total params: 22278593 (84.99 MB)\n",
      "Trainable params: 22278145 (84.98 MB)\n",
      "Non-trainable params: 448 (1.75 KB)\n",
      "_________________________________________________________________\n"
     ]
    }
   ],
   "source": [
    "# Create and train model\n",
    "model = create_cnn_model()\n",
    "print(\"✅ CNN Model Created\")\n",
    "model.summary()\n",
    "\n",
    "# Callbacks\n",
    "checkpoint_path = \"best_cnn_model.keras\"\n",
    "callbacks = [\n",
    "    ModelCheckpoint(checkpoint_path, monitor='val_accuracy', save_best_only=True, mode='max', verbose=1),\n",
    "    EarlyStopping(monitor='val_loss', patience=10, restore_best_weights=True, verbose=1),\n",
    "    ReduceLROnPlateau(monitor='val_loss', factor=0.5, patience=5, min_lr=1e-7, verbose=1)\n",
    "]"
   ]
  },
  {
   "cell_type": "code",
   "execution_count": 20,
   "id": "c1485b8a-19d5-4bd0-b581-d96f7e509ebc",
   "metadata": {},
   "outputs": [
    {
     "name": "stdout",
     "output_type": "stream",
     "text": [
      "Epoch 1/50\n",
      "WARNING:tensorflow:From C:\\Users\\Pavan\\AppData\\Roaming\\Python\\Python311\\site-packages\\keras\\src\\utils\\tf_utils.py:492: The name tf.ragged.RaggedTensorValue is deprecated. Please use tf.compat.v1.ragged.RaggedTensorValue instead.\n",
      "\n",
      "WARNING:tensorflow:From C:\\Users\\Pavan\\AppData\\Roaming\\Python\\Python311\\site-packages\\keras\\src\\engine\\base_layer_utils.py:384: The name tf.executing_eagerly_outside_functions is deprecated. Please use tf.compat.v1.executing_eagerly_outside_functions instead.\n",
      "\n",
      "37/37 [==============================] - ETA: 0s - loss: 1.1779 - accuracy: 0.5377\n",
      "Epoch 1: val_accuracy improved from -inf to 0.47959, saving model to best_cnn_model.keras\n",
      "37/37 [==============================] - 71s 2s/step - loss: 1.1779 - accuracy: 0.5377 - val_loss: 0.7709 - val_accuracy: 0.4796 - lr: 1.0000e-05\n",
      "Epoch 2/50\n",
      "37/37 [==============================] - ETA: 0s - loss: 0.8936 - accuracy: 0.5858\n",
      "Epoch 2: val_accuracy did not improve from 0.47959\n",
      "37/37 [==============================] - 60s 2s/step - loss: 0.8936 - accuracy: 0.5858 - val_loss: 1.0951 - val_accuracy: 0.4796 - lr: 1.0000e-05\n",
      "Epoch 3/50\n",
      "37/37 [==============================] - ETA: 0s - loss: 0.8959 - accuracy: 0.5823\n",
      "Epoch 3: val_accuracy did not improve from 0.47959\n",
      "37/37 [==============================] - 47s 1s/step - loss: 0.8959 - accuracy: 0.5823 - val_loss: 1.3536 - val_accuracy: 0.4796 - lr: 1.0000e-05\n",
      "Epoch 4/50\n",
      "37/37 [==============================] - ETA: 0s - loss: 0.7842 - accuracy: 0.5995\n",
      "Epoch 4: val_accuracy did not improve from 0.47959\n",
      "37/37 [==============================] - 46s 1s/step - loss: 0.7842 - accuracy: 0.5995 - val_loss: 1.4530 - val_accuracy: 0.4796 - lr: 1.0000e-05\n",
      "Epoch 5/50\n",
      "37/37 [==============================] - ETA: 0s - loss: 0.7490 - accuracy: 0.6089\n",
      "Epoch 5: val_accuracy did not improve from 0.47959\n",
      "37/37 [==============================] - 47s 1s/step - loss: 0.7490 - accuracy: 0.6089 - val_loss: 1.3451 - val_accuracy: 0.4796 - lr: 1.0000e-05\n",
      "Epoch 6/50\n",
      "37/37 [==============================] - ETA: 0s - loss: 0.7215 - accuracy: 0.6261\n",
      "Epoch 6: val_accuracy did not improve from 0.47959\n",
      "\n",
      "Epoch 6: ReduceLROnPlateau reducing learning rate to 4.999999873689376e-06.\n",
      "37/37 [==============================] - 46s 1s/step - loss: 0.7215 - accuracy: 0.6261 - val_loss: 1.0803 - val_accuracy: 0.4796 - lr: 1.0000e-05\n",
      "Epoch 7/50\n",
      "37/37 [==============================] - ETA: 0s - loss: 0.6598 - accuracy: 0.6535\n",
      "Epoch 7: val_accuracy improved from 0.47959 to 0.51361, saving model to best_cnn_model.keras\n",
      "37/37 [==============================] - 53s 1s/step - loss: 0.6598 - accuracy: 0.6535 - val_loss: 0.7414 - val_accuracy: 0.5136 - lr: 5.0000e-06\n",
      "Epoch 8/50\n",
      "37/37 [==============================] - ETA: 0s - loss: 0.6100 - accuracy: 0.6741\n",
      "Epoch 8: val_accuracy improved from 0.51361 to 0.70408, saving model to best_cnn_model.keras\n",
      "37/37 [==============================] - 53s 1s/step - loss: 0.6100 - accuracy: 0.6741 - val_loss: 0.5835 - val_accuracy: 0.7041 - lr: 5.0000e-06\n",
      "Epoch 9/50\n",
      "37/37 [==============================] - ETA: 0s - loss: 0.6278 - accuracy: 0.6784\n",
      "Epoch 9: val_accuracy improved from 0.70408 to 0.75510, saving model to best_cnn_model.keras\n",
      "37/37 [==============================] - 48s 1s/step - loss: 0.6278 - accuracy: 0.6784 - val_loss: 0.5356 - val_accuracy: 0.7551 - lr: 5.0000e-06\n",
      "Epoch 10/50\n",
      "37/37 [==============================] - ETA: 0s - loss: 0.6415 - accuracy: 0.6552\n",
      "Epoch 10: val_accuracy did not improve from 0.75510\n",
      "37/37 [==============================] - 47s 1s/step - loss: 0.6415 - accuracy: 0.6552 - val_loss: 0.5235 - val_accuracy: 0.7381 - lr: 5.0000e-06\n",
      "Epoch 11/50\n",
      "37/37 [==============================] - ETA: 0s - loss: 0.6187 - accuracy: 0.6801\n",
      "Epoch 11: val_accuracy did not improve from 0.75510\n",
      "37/37 [==============================] - 47s 1s/step - loss: 0.6187 - accuracy: 0.6801 - val_loss: 0.5233 - val_accuracy: 0.7551 - lr: 5.0000e-06\n",
      "Epoch 12/50\n",
      "37/37 [==============================] - ETA: 0s - loss: 0.6037 - accuracy: 0.6810\n",
      "Epoch 12: val_accuracy improved from 0.75510 to 0.76190, saving model to best_cnn_model.keras\n",
      "37/37 [==============================] - 49s 1s/step - loss: 0.6037 - accuracy: 0.6810 - val_loss: 0.5136 - val_accuracy: 0.7619 - lr: 5.0000e-06\n",
      "Epoch 13/50\n",
      "37/37 [==============================] - ETA: 0s - loss: 0.5770 - accuracy: 0.7041\n",
      "Epoch 13: val_accuracy did not improve from 0.76190\n",
      "37/37 [==============================] - 46s 1s/step - loss: 0.5770 - accuracy: 0.7041 - val_loss: 0.5154 - val_accuracy: 0.7551 - lr: 5.0000e-06\n",
      "Epoch 14/50\n",
      "37/37 [==============================] - ETA: 0s - loss: 0.5986 - accuracy: 0.6724\n",
      "Epoch 14: val_accuracy improved from 0.76190 to 0.76871, saving model to best_cnn_model.keras\n",
      "37/37 [==============================] - 47s 1s/step - loss: 0.5986 - accuracy: 0.6724 - val_loss: 0.4989 - val_accuracy: 0.7687 - lr: 5.0000e-06\n",
      "Epoch 15/50\n",
      "37/37 [==============================] - ETA: 0s - loss: 0.6043 - accuracy: 0.6904\n",
      "Epoch 15: val_accuracy improved from 0.76871 to 0.77891, saving model to best_cnn_model.keras\n",
      "37/37 [==============================] - 48s 1s/step - loss: 0.6043 - accuracy: 0.6904 - val_loss: 0.4969 - val_accuracy: 0.7789 - lr: 5.0000e-06\n",
      "Epoch 16/50\n",
      "37/37 [==============================] - ETA: 0s - loss: 0.5479 - accuracy: 0.7075\n",
      "Epoch 16: val_accuracy improved from 0.77891 to 0.78912, saving model to best_cnn_model.keras\n",
      "37/37 [==============================] - 47s 1s/step - loss: 0.5479 - accuracy: 0.7075 - val_loss: 0.4926 - val_accuracy: 0.7891 - lr: 5.0000e-06\n",
      "Epoch 17/50\n",
      "37/37 [==============================] - ETA: 0s - loss: 0.5627 - accuracy: 0.7041\n",
      "Epoch 17: val_accuracy did not improve from 0.78912\n",
      "37/37 [==============================] - 47s 1s/step - loss: 0.5627 - accuracy: 0.7041 - val_loss: 0.4875 - val_accuracy: 0.7857 - lr: 5.0000e-06\n",
      "Epoch 18/50\n",
      "37/37 [==============================] - ETA: 0s - loss: 0.5532 - accuracy: 0.7093\n",
      "Epoch 18: val_accuracy did not improve from 0.78912\n",
      "37/37 [==============================] - 47s 1s/step - loss: 0.5532 - accuracy: 0.7093 - val_loss: 0.4813 - val_accuracy: 0.7789 - lr: 5.0000e-06\n",
      "Epoch 19/50\n",
      "37/37 [==============================] - ETA: 0s - loss: 0.5234 - accuracy: 0.7461\n",
      "Epoch 19: val_accuracy did not improve from 0.78912\n",
      "37/37 [==============================] - 48s 1s/step - loss: 0.5234 - accuracy: 0.7461 - val_loss: 0.4762 - val_accuracy: 0.7823 - lr: 5.0000e-06\n",
      "Epoch 20/50\n",
      "37/37 [==============================] - ETA: 0s - loss: 0.5766 - accuracy: 0.6921\n",
      "Epoch 20: val_accuracy improved from 0.78912 to 0.80612, saving model to best_cnn_model.keras\n",
      "37/37 [==============================] - 59s 2s/step - loss: 0.5766 - accuracy: 0.6921 - val_loss: 0.4546 - val_accuracy: 0.8061 - lr: 5.0000e-06\n",
      "Epoch 21/50\n",
      "37/37 [==============================] - ETA: 0s - loss: 0.5032 - accuracy: 0.7316\n",
      "Epoch 21: val_accuracy did not improve from 0.80612\n",
      "37/37 [==============================] - 51s 1s/step - loss: 0.5032 - accuracy: 0.7316 - val_loss: 0.4532 - val_accuracy: 0.8027 - lr: 5.0000e-06\n",
      "Epoch 22/50\n",
      "37/37 [==============================] - ETA: 0s - loss: 0.5406 - accuracy: 0.7230\n",
      "Epoch 22: val_accuracy improved from 0.80612 to 0.82993, saving model to best_cnn_model.keras\n",
      "37/37 [==============================] - 47s 1s/step - loss: 0.5406 - accuracy: 0.7230 - val_loss: 0.4268 - val_accuracy: 0.8299 - lr: 5.0000e-06\n",
      "Epoch 23/50\n",
      "37/37 [==============================] - ETA: 0s - loss: 0.5178 - accuracy: 0.7238\n",
      "Epoch 23: val_accuracy did not improve from 0.82993\n",
      "37/37 [==============================] - 47s 1s/step - loss: 0.5178 - accuracy: 0.7238 - val_loss: 0.4473 - val_accuracy: 0.8027 - lr: 5.0000e-06\n",
      "Epoch 24/50\n",
      "37/37 [==============================] - ETA: 0s - loss: 0.5348 - accuracy: 0.7384\n",
      "Epoch 24: val_accuracy improved from 0.82993 to 0.85034, saving model to best_cnn_model.keras\n",
      "37/37 [==============================] - 48s 1s/step - loss: 0.5348 - accuracy: 0.7384 - val_loss: 0.4103 - val_accuracy: 0.8503 - lr: 5.0000e-06\n",
      "Epoch 25/50\n",
      "37/37 [==============================] - ETA: 0s - loss: 0.5119 - accuracy: 0.7564\n",
      "Epoch 25: val_accuracy did not improve from 0.85034\n",
      "37/37 [==============================] - 47s 1s/step - loss: 0.5119 - accuracy: 0.7564 - val_loss: 0.4120 - val_accuracy: 0.8299 - lr: 5.0000e-06\n",
      "Epoch 26/50\n",
      "37/37 [==============================] - ETA: 0s - loss: 0.5220 - accuracy: 0.7350\n",
      "Epoch 26: val_accuracy did not improve from 0.85034\n",
      "37/37 [==============================] - 47s 1s/step - loss: 0.5220 - accuracy: 0.7350 - val_loss: 0.3998 - val_accuracy: 0.8333 - lr: 5.0000e-06\n",
      "Epoch 27/50\n",
      "37/37 [==============================] - ETA: 0s - loss: 0.5196 - accuracy: 0.7221\n",
      "Epoch 27: val_accuracy did not improve from 0.85034\n",
      "37/37 [==============================] - 47s 1s/step - loss: 0.5196 - accuracy: 0.7221 - val_loss: 0.3934 - val_accuracy: 0.8333 - lr: 5.0000e-06\n",
      "Epoch 28/50\n",
      "37/37 [==============================] - ETA: 0s - loss: 0.5145 - accuracy: 0.7504\n",
      "Epoch 28: val_accuracy did not improve from 0.85034\n",
      "37/37 [==============================] - 47s 1s/step - loss: 0.5145 - accuracy: 0.7504 - val_loss: 0.3916 - val_accuracy: 0.8367 - lr: 5.0000e-06\n",
      "Epoch 29/50\n",
      "37/37 [==============================] - ETA: 0s - loss: 0.5064 - accuracy: 0.7358\n",
      "Epoch 29: val_accuracy did not improve from 0.85034\n",
      "37/37 [==============================] - 46s 1s/step - loss: 0.5064 - accuracy: 0.7358 - val_loss: 0.3704 - val_accuracy: 0.8435 - lr: 5.0000e-06\n",
      "Epoch 30/50\n",
      "37/37 [==============================] - ETA: 0s - loss: 0.5064 - accuracy: 0.7564\n",
      "Epoch 30: val_accuracy did not improve from 0.85034\n",
      "37/37 [==============================] - 47s 1s/step - loss: 0.5064 - accuracy: 0.7564 - val_loss: 0.4129 - val_accuracy: 0.8367 - lr: 5.0000e-06\n",
      "Epoch 31/50\n",
      "37/37 [==============================] - ETA: 0s - loss: 0.4741 - accuracy: 0.7659\n",
      "Epoch 31: val_accuracy improved from 0.85034 to 0.85374, saving model to best_cnn_model.keras\n",
      "37/37 [==============================] - 47s 1s/step - loss: 0.4741 - accuracy: 0.7659 - val_loss: 0.4050 - val_accuracy: 0.8537 - lr: 5.0000e-06\n",
      "Epoch 32/50\n",
      "37/37 [==============================] - ETA: 0s - loss: 0.4718 - accuracy: 0.7659\n",
      "Epoch 32: val_accuracy did not improve from 0.85374\n",
      "37/37 [==============================] - 47s 1s/step - loss: 0.4718 - accuracy: 0.7659 - val_loss: 0.4117 - val_accuracy: 0.8367 - lr: 5.0000e-06\n",
      "Epoch 33/50\n",
      "37/37 [==============================] - ETA: 0s - loss: 0.4695 - accuracy: 0.7830\n",
      "Epoch 33: val_accuracy did not improve from 0.85374\n",
      "37/37 [==============================] - 48s 1s/step - loss: 0.4695 - accuracy: 0.7830 - val_loss: 0.4073 - val_accuracy: 0.8401 - lr: 5.0000e-06\n",
      "Epoch 34/50\n",
      "37/37 [==============================] - ETA: 0s - loss: 0.4589 - accuracy: 0.7813\n",
      "Epoch 34: val_accuracy did not improve from 0.85374\n",
      "\n",
      "Epoch 34: ReduceLROnPlateau reducing learning rate to 2.499999936844688e-06.\n",
      "37/37 [==============================] - 48s 1s/step - loss: 0.4589 - accuracy: 0.7813 - val_loss: 0.4224 - val_accuracy: 0.8231 - lr: 5.0000e-06\n",
      "Epoch 35/50\n",
      "37/37 [==============================] - ETA: 0s - loss: 0.4692 - accuracy: 0.7787\n",
      "Epoch 35: val_accuracy did not improve from 0.85374\n",
      "37/37 [==============================] - 54s 1s/step - loss: 0.4692 - accuracy: 0.7787 - val_loss: 0.3976 - val_accuracy: 0.8333 - lr: 2.5000e-06\n",
      "Epoch 36/50\n",
      "37/37 [==============================] - ETA: 0s - loss: 0.4744 - accuracy: 0.7684\n",
      "Epoch 36: val_accuracy did not improve from 0.85374\n",
      "37/37 [==============================] - 47s 1s/step - loss: 0.4744 - accuracy: 0.7684 - val_loss: 0.3836 - val_accuracy: 0.8435 - lr: 2.5000e-06\n",
      "Epoch 37/50\n",
      "37/37 [==============================] - ETA: 0s - loss: 0.4775 - accuracy: 0.7599\n",
      "Epoch 37: val_accuracy did not improve from 0.85374\n",
      "37/37 [==============================] - 47s 1s/step - loss: 0.4775 - accuracy: 0.7599 - val_loss: 0.3817 - val_accuracy: 0.8401 - lr: 2.5000e-06\n",
      "Epoch 38/50\n",
      "37/37 [==============================] - ETA: 0s - loss: 0.4282 - accuracy: 0.7950\n",
      "Epoch 38: val_accuracy did not improve from 0.85374\n",
      "37/37 [==============================] - 48s 1s/step - loss: 0.4282 - accuracy: 0.7950 - val_loss: 0.3789 - val_accuracy: 0.8503 - lr: 2.5000e-06\n",
      "Epoch 39/50\n",
      "37/37 [==============================] - ETA: 0s - loss: 0.4403 - accuracy: 0.7925\n",
      "Epoch 39: val_accuracy did not improve from 0.85374\n",
      "Restoring model weights from the end of the best epoch: 29.\n",
      "\n",
      "Epoch 39: ReduceLROnPlateau reducing learning rate to 1.249999968422344e-06.\n",
      "37/37 [==============================] - 47s 1s/step - loss: 0.4403 - accuracy: 0.7925 - val_loss: 0.3916 - val_accuracy: 0.8469 - lr: 2.5000e-06\n",
      "Epoch 39: early stopping\n"
     ]
    }
   ],
   "source": [
    "# Train model\n",
    "history = model.fit(\n",
    "    train_dataset,\n",
    "    validation_data=validation_dataset,\n",
    "    epochs=50,\n",
    "    callbacks=callbacks,\n",
    "    class_weight=class_weight_dict\n",
    ")"
   ]
  },
  {
   "cell_type": "code",
   "execution_count": 22,
   "id": "804c8ea2-1667-4aa5-9250-63767be73238",
   "metadata": {},
   "outputs": [
    {
     "name": "stdout",
     "output_type": "stream",
     "text": [
      "✅ Model Training Completed & Saved\n"
     ]
    }
   ],
   "source": [
    "# Save final model\n",
    "model.save(\"final_cnn_model.keras\")\n",
    "print(\"✅ Model Training Completed & Saved\")"
   ]
  },
  {
   "cell_type": "code",
   "execution_count": 24,
   "id": "5d44fc78-7dbe-47e4-94d5-ee526b2d14cd",
   "metadata": {},
   "outputs": [
    {
     "data": {
      "image/png": "[encoded data removed]",
      "text/plain": [
       "<Figure size 1200x600 with 1 Axes>"
      ]
     },
     "metadata": {},
     "output_type": "display_data"
    }
   ],
   "source": [
    "# Plot training history\n",
    "plt.figure(figsize=(12, 6))\n",
    "plt.plot(history.history['accuracy'], label='Train Accuracy')\n",
    "plt.plot(history.history['val_accuracy'], label='Val Accuracy')\n",
    "plt.title('Model Accuracy')\n",
    "plt.legend()\n",
    "plt.savefig('accuracy_plot.png')\n",
    "plt.show()\n"
   ]
  },
  {
   "cell_type": "code",
   "execution_count": 54,
   "id": "f6642690-3ae3-4be4-92c6-e5292c28838a",
   "metadata": {},
   "outputs": [
    {
     "name": "stdout",
     "output_type": "stream",
     "text": [
      "✅ Model Loaded\n"
     ]
    }
   ],
   "source": [
    "model = tf.keras.models.load_model(\"final_cnn_model.keras\")  # Load once globally\n",
    "print(\"✅ Model Loaded\")\n",
    "\n",
    "def predict_defect(image_path):\n",
    "    img = tf.keras.preprocessing.image.load_img(image_path, target_size=IMAGE_SIZE)\n",
    "    img_array = tf.keras.preprocessing.image.img_to_array(img)\n",
    "    img_array = np.expand_dims(img_array, axis=0) / 255.0\n",
    "\n",
    "    prediction = model.predict(img_array)[0][0]\n",
    "    is_defect = prediction < 0.5  # Flip logic\n",
    "    confidence = 1 - prediction if is_defect else prediction\n",
    "\n",
    "    print(f\"🔍 Prediction: {'DEFECT' if is_defect else 'NO DEFECT'} | Confidence: {confidence:.2%}\")\n",
    "    return is_defect, confidence\n"
   ]
  },
  {
   "cell_type": "code",
   "execution_count": 57,
   "id": "7abfc856-16cc-43b5-8f80-d78320ec65fd",
   "metadata": {},
   "outputs": [
    {
     "name": "stdin",
     "output_type": "stream",
     "text": [
      "Enter image path:  C:\\Users\\Pavan\\Downloads\\dataset\\val\\defect\\leg_broken_205.jpg\n"
     ]
    },
    {
     "name": "stdout",
     "output_type": "stream",
     "text": [
      "WARNING:tensorflow:6 out of the last 9 calls to <function Model.make_predict_function.<locals>.predict_function at 0x00000225520D2DE0> triggered tf.function retracing. Tracing is expensive and the excessive number of tracings could be due to (1) creating @tf.function repeatedly in a loop, (2) passing tensors with different shapes, (3) passing Python objects instead of tensors. For (1), please define your @tf.function outside of the loop. For (2), @tf.function has reduce_retracing=True option that can avoid unnecessary retracing. For (3), please refer to https://www.tensorflow.org/guide/function#controlling_retracing and https://www.tensorflow.org/api_docs/python/tf/function for  more details.\n",
      "1/1 [==============================] - 0s 113ms/step\n",
      "🔍 Prediction: DEFECT | Confidence: 70.21%\n"
     ]
    }
   ],
   "source": [
    "# Interactive prediction\n",
    "if __name__ == \"__main__\":\n",
    "    image_path = input(\"Enter image path: \")\n",
    "    predict_defect(image_path)"
   ]
  },
  {
   "cell_type": "code",
   "execution_count": 30,
   "id": "c9ac98e6-eab3-45b2-a5dc-f91c2c0019b4",
   "metadata": {},
   "outputs": [
    {
     "name": "stdout",
     "output_type": "stream",
     "text": [
      "Final Train Accuracy: 79.25%\n",
      "Final Val Accuracy: 84.69%\n"
     ]
    }
   ],
   "source": [
    "\n",
    "print(f\"Final Train Accuracy: {history.history['accuracy'][-1]:.2%}\")\n",
    "print(f\"Final Val Accuracy: {history.history['val_accuracy'][-1]:.2%}\")\n"
   ]
  },
  {
   "cell_type": "code",
   "execution_count": 58,
   "id": "1953e10a-4236-4cc0-809c-fe1d7b85c3d4",
   "metadata": {},
   "outputs": [
    {
     "name": "stdout",
     "output_type": "stream",
     "text": [
      "✅ Class Indices: {'defect': 0, 'no_defect': 1}\n"
     ]
    }
   ],
   "source": [
    "print(\"✅ Class Indices:\", train_dataset.class_indices)\n"
   ]
  },
  {
   "cell_type": "code",
   "execution_count": null,
   "id": "4e6dac40-26c6-4f65-a85c-847d85596cc3",
   "metadata": {},
   "outputs": [],
   "source": []
  }
 ],
 "metadata": {
  "kernelspec": {
   "display_name": "Python (GPU)",
   "language": "python",
   "name": "myenv"
  },
  "language_info": {
   "codemirror_mode": {
    "name": "ipython",
    "version": 3
   },
   "file_extension": ".py",
   "mimetype": "text/x-python",
   "name": "python",
   "nbconvert_exporter": "python",
   "pygments_lexer": "ipython3",
   "version": "3.11.7"
  }
 },
 "nbformat": 4,
 "nbformat_minor": 5
}
